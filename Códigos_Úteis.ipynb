{
  "nbformat": 4,
  "nbformat_minor": 0,
  "metadata": {
    "colab": {
      "name": "Códigos Úteis",
      "version": "0.3.2",
      "provenance": [],
      "collapsed_sections": [],
      "include_colab_link": true
    },
    "kernelspec": {
      "name": "python3",
      "display_name": "Python 3"
    }
  },
  "cells": [
    {
      "cell_type": "markdown",
      "metadata": {
        "id": "view-in-github",
        "colab_type": "text"
      },
      "source": [
        "<a href=\"https://colab.research.google.com/github/athyrson06/Useful-Codes-for-Google-Colab/blob/master/C%C3%B3digos_%C3%9Ateis.ipynb\" target=\"_parent\"><img src=\"https://colab.research.google.com/assets/colab-badge.svg\" alt=\"Open In Colab\"/></a>"
      ]
    },
    {
      "cell_type": "markdown",
      "metadata": {
        "id": "ZMPRFml-7mQ0",
        "colab_type": "text"
      },
      "source": [
        "```python\n",
        "------------------------------------------------- BASICOS -----------------------------------------------------\n",
        "```"
      ]
    },
    {
      "cell_type": "code",
      "metadata": {
        "id": "K2bdZ0z_hrqy",
        "colab_type": "code",
        "cellView": "form",
        "colab": {}
      },
      "source": [
        "#@title <div><img src=\"https://upload.wikimedia.org/wikipedia/commons/thumb/d/da/Google_Drive_logo.png/250px-Google_Drive_logo.png\" alt=\"drawing\" width=\"50\"><span>Drive</span></div>\n",
        "from google.colab import drive\n",
        "drive.mount(\"/content/gdrive\")"
      ],
      "execution_count": 0,
      "outputs": []
    },
    {
      "cell_type": "code",
      "metadata": {
        "id": "9EOuBluPiSdY",
        "colab_type": "code",
        "cellView": "form",
        "outputId": "7e298609-d771-4c61-d0a0-52ae40be6f1d",
        "colab": {
          "base_uri": "https://localhost:8080/",
          "height": 34
        }
      },
      "source": [
        "#@title cd My Drive\n",
        "cd gdrive/'My Drive'/DataScience"
      ],
      "execution_count": 0,
      "outputs": [
        {
          "output_type": "stream",
          "text": [
            "/content/gdrive/My Drive/DataScience\n"
          ],
          "name": "stdout"
        }
      ]
    },
    {
      "cell_type": "code",
      "metadata": {
        "id": "v0elgE4FboFk",
        "colab_type": "code",
        "cellView": "form",
        "colab": {}
      },
      "source": [
        "#@title \"\"\" fazer uploads para google drive \"\"\"\n",
        "from google.colab import files\n",
        "uploaded = files.upload()"
      ],
      "execution_count": 0,
      "outputs": []
    },
    {
      "cell_type": "code",
      "metadata": {
        "id": "X62DYjTwQms7",
        "colab_type": "code",
        "cellView": "form",
        "colab": {}
      },
      "source": [
        "#@title !mkdir Kimera\n",
        "!mkdir Kimera"
      ],
      "execution_count": 0,
      "outputs": []
    },
    {
      "cell_type": "code",
      "metadata": {
        "id": "TldL3Db0Qupg",
        "colab_type": "code",
        "cellView": "form",
        "colab": {}
      },
      "source": [
        "#@title !mkdir Kimera/sub-diretorio\n",
        "!mkdir Kimera/sub-diretorio"
      ],
      "execution_count": 0,
      "outputs": []
    },
    {
      "cell_type": "code",
      "metadata": {
        "id": "cH94_XHGQqTx",
        "colab_type": "code",
        "cellView": "form",
        "colab": {}
      },
      "source": [
        "#@title touch Kimera/{1..25}.jpg\n",
        "!touch Kimera/{1..25}.jpg"
      ],
      "execution_count": 0,
      "outputs": []
    },
    {
      "cell_type": "code",
      "metadata": {
        "id": "vhkmbHi2Q_Hd",
        "colab_type": "code",
        "cellView": "form",
        "outputId": "346e6a89-ce13-4d40-de44-f8fd6f132855",
        "colab": {
          "base_uri": "https://localhost:8080/",
          "height": 68
        }
      },
      "source": [
        "#@title ls Kimera\n",
        "ls Kimera"
      ],
      "execution_count": 0,
      "outputs": [
        {
          "output_type": "stream",
          "text": [
            "10.jpg  13.jpg  16.jpg  19.jpg  21.jpg  24.jpg  3.jpg  6.jpg  9.jpg\n",
            "11.jpg  14.jpg  17.jpg  1.jpg   22.jpg  25.png  4.jpg  7.jpg  \u001b[0m\u001b[01;34msub-diretorio\u001b[0m/\n",
            "12.jpg  15.jpg  18.jpg  20.jpg  23.jpg  2.jpg   5.jpg  8.jpg\n"
          ],
          "name": "stdout"
        }
      ]
    },
    {
      "cell_type": "markdown",
      "metadata": {
        "colab_type": "text",
        "id": "otm1HXL3JsIN"
      },
      "source": [
        "```python\n",
        "------------------------------------------------- MÉDIOS -----------------------------------------------------\n",
        "```"
      ]
    },
    {
      "cell_type": "code",
      "metadata": {
        "id": "_hJiCkOHCh3R",
        "colab_type": "code",
        "cellView": "form",
        "outputId": "3fd2c9a7-6b7a-49b4-e554-037005e97cde",
        "colab": {
          "base_uri": "https://localhost:8080/",
          "height": 51
        }
      },
      "source": [
        "#@title \"\"\" Tamanho da pasta Kimera \"\"\"\n",
        "!du -h --max-depth=2 Kimera"
      ],
      "execution_count": 0,
      "outputs": [
        {
          "output_type": "stream",
          "text": [
            "4.0K\tKimera/sub-diretorio\n",
            "8.0K\tKimera\n"
          ],
          "name": "stdout"
        }
      ]
    },
    {
      "cell_type": "code",
      "metadata": {
        "id": "ZrO_Q7wCQRzK",
        "colab_type": "code",
        "cellView": "form",
        "colab": {}
      },
      "source": [
        "#@title \"\"\" renomeia 25.jpg para 25.png\"\"\"\n",
        "!rename 's/.jpg/.png/' Kimera/25.jpg\n",
        "#!rename 's/{parte do nome a ser subsituida}/{nova parte do nome}/' arquivo"
      ],
      "execution_count": 0,
      "outputs": []
    },
    {
      "cell_type": "code",
      "metadata": {
        "id": "ACSoSGE6QTZq",
        "colab_type": "code",
        "cellView": "form",
        "outputId": "3da1ef38-f172-4952-e6b5-4e97e97c9c69",
        "colab": {
          "base_uri": "https://localhost:8080/",
          "height": 34
        }
      },
      "source": [
        "#@title \"\"\"Exibe a quantidade de arquivos da pasta Kimera\"\"\"\n",
        "!ls -l Kimera/. | egrep -c '^-'"
      ],
      "execution_count": 0,
      "outputs": [
        {
          "output_type": "stream",
          "text": [
            "25\n"
          ],
          "name": "stdout"
        }
      ]
    },
    {
      "cell_type": "code",
      "metadata": {
        "id": "q0-ELefaQTkc",
        "colab_type": "code",
        "cellView": "form",
        "outputId": "2ef0a50d-74df-4f53-e1cf-758701a6461c",
        "colab": {
          "base_uri": "https://localhost:8080/",
          "height": 51
        }
      },
      "source": [
        "#@title \"\"\" Exemplo tqdm \"\"\"\n",
        "import os\n",
        "from tqdm import tqdm\n",
        "\n",
        "path = 'Kimera/'\n",
        "\n",
        "i = 0\n",
        "for img in tqdm(os.listdir(path)):\n",
        "    i += 1\n",
        "\n",
        "print(i)\n"
      ],
      "execution_count": 0,
      "outputs": [
        {
          "output_type": "stream",
          "text": [
            "100%|██████████| 26/26 [00:00<00:00, 52963.53it/s]"
          ],
          "name": "stderr"
        },
        {
          "output_type": "stream",
          "text": [
            "26\n"
          ],
          "name": "stdout"
        },
        {
          "output_type": "stream",
          "text": [
            "\n"
          ],
          "name": "stderr"
        }
      ]
    },
    {
      "cell_type": "code",
      "metadata": {
        "id": "SovR2fm0a10l",
        "colab_type": "code",
        "cellView": "form",
        "colab": {}
      },
      "source": [
        "#@title \"\"\"importar biblioteca os e definir pasta Kimera como caminho\"\"\"\n",
        "import os\n",
        "\n",
        "path = 'Kimera'"
      ],
      "execution_count": 0,
      "outputs": []
    },
    {
      "cell_type": "code",
      "metadata": {
        "id": "wDemGvWua15z",
        "colab_type": "code",
        "cellView": "form",
        "outputId": "70e7bb48-2cb6-461d-a8bd-2bd08cd85cf7",
        "colab": {
          "base_uri": "https://localhost:8080/",
          "height": 34
        }
      },
      "source": [
        "#@title \"\"\"criar uma lista com os arquivos e sub-diretorios da pasta Kimera\"\"\"\n",
        "files = os.listdir(path)\n",
        "\n",
        "print(len(files))"
      ],
      "execution_count": 0,
      "outputs": [
        {
          "output_type": "stream",
          "text": [
            "26\n"
          ],
          "name": "stdout"
        }
      ]
    },
    {
      "cell_type": "code",
      "metadata": {
        "id": "g_ZQZ3Uwa18i",
        "colab_type": "code",
        "cellView": "form",
        "colab": {}
      },
      "source": [
        "#@title \"\"\"renomear de acordo com index\"\"\"\n",
        "import os\n",
        "\n",
        "path = 'Kimera'\n",
        "\n",
        "files = os.listdir(path)\n",
        "\n",
        "def ren_index():\n",
        "    for index, file in enumerate(files):\n",
        "        if( os.path.isfile(os.path.join(path,file))):\n",
        "            os.rename(os.path.join(path, file), os.path.join(path, str(index) + '_' + file))\n",
        "ren_index()"
      ],
      "execution_count": 0,
      "outputs": []
    },
    {
      "cell_type": "code",
      "metadata": {
        "id": "PI4u-J6_a2EY",
        "colab_type": "code",
        "cellView": "form",
        "colab": {}
      },
      "source": [
        "#@title \"\"\"desfazer renomear de acordo com index\"\"\"\n",
        "import os\n",
        "\n",
        "files = os.listdir(path)\n",
        "\n",
        "def undo_ren_index():\n",
        "    for index, file in enumerate(files):\n",
        "        if (os.path.isfile(os.path.join(path,file))):\n",
        "            if(file[1] == '_'):\n",
        "                os.rename(os.path.join(path, file), os.path.join(path, file[2:]))\n",
        "            elif(file[2] == '_'):\n",
        "                os.rename(os.path.join(path, file), os.path.join(path, file[3:]))\n",
        "undo_ren_index()"
      ],
      "execution_count": 0,
      "outputs": []
    },
    {
      "cell_type": "code",
      "metadata": {
        "id": "iJcV0hO2QTpi",
        "colab_type": "code",
        "cellView": "form",
        "colab": {}
      },
      "source": [
        "#@title \"\"\"mover arquivos para sub-diretorio\"\"\"\n",
        "\n",
        "import os\n",
        "\n",
        "path = 'Kimera'\n",
        "new_path = 'Kimera/sub-diretorio'\n",
        "\n",
        "files = os.listdir(path)\n",
        "\n",
        "for file in files :\n",
        "    full_name = os.path.join(path,file)\n",
        "    new_full_name = os.path.join(new_path, file)\n",
        "\n",
        "    if full_name != new_path:\n",
        "        os.rename(full_name, new_full_name)\n"
      ],
      "execution_count": 0,
      "outputs": []
    },
    {
      "cell_type": "code",
      "metadata": {
        "colab_type": "code",
        "cellView": "form",
        "id": "VkdAm9b75rGG",
        "colab": {}
      },
      "source": [
        "#@title \"\"\"desfazer mover arquivos para sub-diretorio\"\"\"\n",
        "\n",
        "import os\n",
        "\n",
        "path = 'Kimera/sub-diretorio'\n",
        "new_path = 'Kimera'\n",
        "\n",
        "files = os.listdir(path)\n",
        "\n",
        "for file in files :\n",
        "    full_name = os.path.join(path,file)\n",
        "    new_full_name = os.path.join(new_path, file)\n",
        "\n",
        "    if full_name != new_path:\n",
        "        os.rename(full_name, new_full_name)\n"
      ],
      "execution_count": 0,
      "outputs": []
    },
    {
      "cell_type": "code",
      "metadata": {
        "id": "kDJ4VPNPQTsQ",
        "colab_type": "code",
        "cellView": "form",
        "outputId": "4ed36bf3-77d5-4a26-d668-9cee43779e39",
        "colab": {
          "base_uri": "https://localhost:8080/",
          "height": 187
        }
      },
      "source": [
        "#@title \"\"\"criar e deletar arquivos (import Path)\"\"\"\n",
        "import os\n",
        "\n",
        "from pathlib import Path\n",
        "\n",
        "path = \"Kimera/sub-diretorio/\"\n",
        "\n",
        "Path(path+\"file-1.txt\").touch()\n",
        "for i in range(100):\n",
        "    if i%10 == 8:\n",
        "        print(os.listdir(path))\n",
        "    if i%10 == 9:\n",
        "        filename = path+\"file{}.txt\".format(i)\n",
        "        Path(filename).touch()\n",
        "        previous = path+\"file{}.txt\".format(i-10)\n",
        "        os.remove(previous)"
      ],
      "execution_count": 0,
      "outputs": [
        {
          "output_type": "stream",
          "text": [
            "['file99.txt', 'file-1.txt']\n",
            "['file99.txt', 'file9.txt']\n",
            "['file99.txt', 'file19.txt']\n",
            "['file99.txt', 'file29.txt']\n",
            "['file99.txt', 'file39.txt']\n",
            "['file99.txt', 'file49.txt']\n",
            "['file99.txt', 'file59.txt']\n",
            "['file99.txt', 'file69.txt']\n",
            "['file99.txt', 'file79.txt']\n",
            "['file99.txt', 'file89.txt']\n"
          ],
          "name": "stdout"
        }
      ]
    },
    {
      "cell_type": "markdown",
      "metadata": {
        "colab_type": "text",
        "id": "ez0qEUbcJyIc"
      },
      "source": [
        "```python\n",
        "------------------------------------ AVANÇADO [BBox-Label-Tool-master] ------------------------------------------\n",
        "```"
      ]
    },
    {
      "cell_type": "code",
      "metadata": {
        "id": "I_ELGyyq4xGm",
        "colab_type": "code",
        "cellView": "form",
        "colab": {}
      },
      "source": [
        "#@title \"\"\"redimensiona imagens [BBox.../rez.py]\"\"\"\n",
        "from PIL import Image\n",
        "import os\n",
        "\n",
        "\"\"\"-----------------------------------------------------------\"\"\"\n",
        "\n",
        "#path where original images are located\n",
        "path = os.getcwd()+'/'+'Images'+'/'+'full/'\n",
        "#path where images are saved after being resized\n",
        "path_save = os.getcwd()+'/'+'Images'+'/'+'resized/'\n",
        "\n",
        "\"\"\"-----------------------------------------------------------\"\"\"\n",
        "\n",
        "#width of the images after being resized\n",
        "basewidth = 800 #@param {type:\"integer\"}\n",
        "\n",
        "\"\"\"-----------------------------------------------------------\"\"\"\n",
        "\n",
        "resize = False #@param {type:\"boolean\"}\n",
        "if resize:\n",
        "\t#resize the images\n",
        "\tfor file in os.listdir(path):\n",
        "\t\tname = os.path.join(path,file)\n",
        "\t\timg = Image.open(name)\n",
        "\t\tquality_val = 100   #set the quality of the images\n",
        "\t\twpercent = (basewidth/float(img.size[0]))\n",
        "\t\thsize = int((float(img.size[1])*float(wpercent)))\n",
        "\t\t# img = img.resize((basewidth,hsize), Image.ANTIALIAS)\n",
        "\t\timg = img.resize((basewidth,hsize),)\n",
        "\t\timg.save(path_save+file, quality=quality_val) \n",
        "\t\t# image.save(filename, 'JPEG', quality=quality_val)\n",
        "\n",
        "\"\"\"-----------------------------------------------------------\"\"\"\n"
      ],
      "execution_count": 0,
      "outputs": []
    },
    {
      "cell_type": "code",
      "metadata": {
        "id": "jIoKCQET4xJV",
        "colab_type": "code",
        "cellView": "form",
        "colab": {}
      },
      "source": [
        "#@title \"\"\" corta imagens de acordo com as coordenadas dadas [BBox.../crop.py]\"\"\"\n",
        "from PIL import Image\n",
        "import os\n",
        "\n",
        "\"\"\"-----------------------------------------------------------\"\"\"\n",
        "\n",
        "#define path where images are located\n",
        "# path_img = os.getcwd()+'/'+'Images'+'/'+'001'\n",
        "path_img = os.getcwd()+'/'+'Images'+'/'+'full'\n",
        "#define path where images are saved after being cropped\n",
        "path_cropped = os.getcwd()+'/'+'Images'+'/'+'cropped'\n",
        "#define path where labels are located\n",
        "path_txt = os.getcwd()+'/'+'Labels'+'/'+'001'\n",
        "\n",
        "\"\"\"-----------------------------------------------------------\"\"\"\n",
        "\n",
        "img_names = []          #list of image names\n",
        "full_path_img = []      #list with full path of each image\n",
        "full_path_txt = []      #list with full path of each image label\n",
        "coordinate_list = []    #list with coordinates of each image\n",
        "number_of_images = 0    #number of images\n",
        "\n",
        "save_img_names = True #@param {type:\"boolean\"}\n",
        "if save_img_names:\n",
        "\t#loop that saves the name and full path of each image\n",
        "\tfor file in os.listdir(path_img):\n",
        "\t\timg_names.append(file)\n",
        "\t\tfull_path_img.append(path_img+'/'+file)\n",
        "\t\tnumber_of_images += 1\n",
        "\tprint('img_names saved')\n",
        "else:\n",
        "\tprint('img_names not saved')\n",
        "\n",
        "\"\"\"-----------------------------------------------------------\"\"\"\n",
        "\n",
        "save_label = True #@param {type:\"boolean\"}\n",
        "if save_label:\n",
        "\t#loop that saves the full path of each image label\n",
        "\tfor i in range(number_of_images):\n",
        "\t\t# full_path_txt.append(path_txt+'/'+img_names[i][:-4]+'txt')\n",
        "\t\tfull_path_txt.append(path_txt+'/'+img_names[i][:-3]+'txt')\n",
        "\tprint('labels saved')\n",
        "else:\n",
        "\tprint('labels not saved')\n",
        "\n",
        "\"\"\"-----------------------------------------------------------\"\"\"\n",
        "\n",
        "show_paths =  = False #@param {type:\"boolean\"}\n",
        "if show_paths:\n",
        "\t#loop that shows the full path of each image and label\n",
        "\tfor i in range(number_of_images):\n",
        "\t\tprint(full_path_img[i])\n",
        "\t\tprint(full_path_txt[i])\n",
        "else:\n",
        "\tprint('paths oculted')\n",
        "\n",
        "\"\"\"-----------------------------------------------------------\"\"\"\n",
        "\n",
        "extract = True #@param {type:\"boolean\"}\n",
        "coordinate_line = 1\n",
        "if extract:\n",
        "\t# ratio_constant = 1.7867 #2144/1200 ~ 1424/797 [R3]\n",
        "\t# ratio_constant = 2.681 #2144/800 ~ 1424/531 [R3]\n",
        "\t# ratio_constant = 2.6875 #2150/800 [Drishti]\n",
        "\tratio_constant = 4.38 #3504/800 [HRF]\n",
        "\t#loop that extracts the coordinates of each label file\n",
        "\tfor index, file in enumerate(full_path_txt):\n",
        "\t\tcoordinate_file = open(file, \"r\")\n",
        "\t\tarray = coordinate_file.readlines()[coordinate_line]\n",
        "\n",
        "\t\t#formats the coordinates to a list of 4 values\n",
        "\t\tcoordinates = array.split()\n",
        "\n",
        "\t\t#append each tuple of coordinates to the list that contains\n",
        "        #all coordinates\n",
        "\t\tcoordinate_list.append(\n",
        "\t\t\t#convert list of coordinates to a tuple\n",
        "\t\t\ttuple(\n",
        "\t\t\t\t#converts coordinates from string to int\n",
        "\t\t\t\t[int(ratio_constant*int(i)) for i in coordinates]))\n",
        "\tprint('coordinates extracted')\n",
        "else:\n",
        "\tprint('coordinates not extracted')\n",
        "\n",
        "show_coordinate_list = False #@param {type:\"boolean\"}\n",
        "if show_coordinate_list:\n",
        "\tfor index, c in enumerate(coordinate_list):\n",
        "\t\tprint(index,'=',c)\n",
        "\n",
        "\"\"\"-----------------------------------------------------------\"\"\"\n",
        "\n",
        "dataset_is_R3 = False\n",
        "quality_val = 100\n",
        "\n",
        "crop = True #@param {type:\"boolean\"}\n",
        "if crop:\n",
        "\t#crop each image to its respective coordinates\n",
        "\tfor index, file in enumerate(full_path_img):\n",
        "\t\t# name = os.path.join(path,file)\n",
        "\t\timg = Image.open(file)\n",
        "\t\t# print(img)\n",
        "\t\timgCropped = img.crop(coordinate_list[index])\n",
        "\t\tif dataset_is_R3:\n",
        "\t\t\tif coordinate_line == 1:\n",
        "\t\t\t\timgCropped.save(\n",
        "                    path_cropped+'/Left-'+img_names[index],\n",
        "                    quality=quality_val)\n",
        "\t\t\tif coordinate_line == 2:\n",
        "\t\t\t\timgCropped.save(\n",
        "                    path_cropped+'/Right-'+img_names[index],\n",
        "                    quality=quality_val)\n",
        "\t\telse:\n",
        "\t\t\timgCropped.save(\n",
        "                path_cropped+'/'+img_names[index],\n",
        "                quality=quality_val)\n",
        "\n",
        "\tprint(\"images cropped\")\n",
        "else:\n",
        "\tprint(\"images not cropped\")\n",
        "\n",
        "\"\"\"-----------------------------------------------------------\"\"\"\n"
      ],
      "execution_count": 0,
      "outputs": []
    },
    {
      "cell_type": "markdown",
      "metadata": {
        "colab_type": "text",
        "id": "fJ0krYC0sAYj"
      },
      "source": [
        "```python\n",
        "------------------------------------ AVANÇADO [DA-R1-R2-R3-Dris] ------------------------------------------\n",
        "```"
      ]
    },
    {
      "cell_type": "code",
      "metadata": {
        "id": "zfES-gFI4xTU",
        "colab_type": "code",
        "cellView": "form",
        "colab": {}
      },
      "source": [
        "#@title \"\"\"[DA-R1.../convert.py]\"\"\"\n",
        "import os\n",
        "from tqdm import tqdm\n",
        "\n",
        "# Glaucoma and glaucoma suspicious\n",
        "path = 'pos/normal'\n",
        "save_path = 'pos/jpg_normal'\n",
        "\n",
        "# path = 'pre/glaucoma'\n",
        "# save_path = 'pos/glaucoma'\n",
        "\n",
        "\n",
        "img_names = []\n",
        "\n",
        "# i = 0\n",
        "for img in os.listdir(path):\n",
        "\t# if(img[-3:] == 'bmp'):\n",
        "\t#     i += 1\n",
        "\timg_names.append(img)\n",
        "\t# if i <= 5:\n",
        "\t#   print(img)\n",
        "\t\n",
        "print('len: ',len(img_names))\n",
        "\t\n",
        "print(img_names[-3:])\n",
        "# print(i)\n",
        "\n",
        "from keras.preprocessing.image import ImageDataGenerator, array_to_img, img_to_array, load_img\n",
        "\n",
        "\n",
        "from PIL import Image\n",
        "\n",
        "\n",
        "converter = True\n",
        "if converter:\n",
        "\tquality_val = 90   #set the quality of the images\n",
        "\tfor img in tqdm(img_names):\n",
        "\t\tfull_name = os.path.join(path,img)\n",
        "\t\tsave = os.path.join(save_path,img[:-3]+'jpg')\n",
        "\t\tim = Image.open(full_name)\n",
        "\t\trgb_im = im.convert('RGB')\n",
        "\t\trgb_im.save(save, quality=quality_val)\n",
        "\t\t"
      ],
      "execution_count": 0,
      "outputs": []
    },
    {
      "cell_type": "code",
      "metadata": {
        "id": "c7eWUchf4xRR",
        "colab_type": "code",
        "cellView": "form",
        "colab": {}
      },
      "source": [
        "#@title \"\"\"[DA-R1.../data_agmentation.py]\"\"\"\n",
        "import os\n",
        "from tqdm import tqdm\n",
        "\n",
        "# Glaucoma and glaucoma suspicious\n",
        "path = 'pre/normal'\n",
        "save_path = 'pos/normal'\n",
        "\n",
        "# path = 'pre/glaucoma'\n",
        "# save_path = 'pos/glaucoma'\n",
        "\n",
        "\n",
        "img_names = []\n",
        "\n",
        "# i = 0\n",
        "for img in os.listdir(path):\n",
        "\t# if(img[-3:] == 'bmp'):\n",
        "\t#     i += 1\n",
        "\timg_names.append(img)\n",
        "\t# if i <= 5:\n",
        "\t#   print(img)\n",
        "\t\n",
        "print('len: ',len(img_names))\n",
        "\t\n",
        "print(img_names[-3:])\n",
        "# print(i)\n",
        "\n",
        "from keras.preprocessing.image import ImageDataGenerator, array_to_img, img_to_array, load_img\n",
        "\n",
        "datagen = ImageDataGenerator(\n",
        "\t\trotation_range=30,\n",
        "\t\t# brightness_range = (0.25,0.5),\n",
        "\t\tbrightness_range = (0.5,1.25),\n",
        "#         width_shift_range=0.2,\n",
        "#         height_shift_range=0.2,\n",
        "#         shear_range=0.2,\n",
        "#         zoom_range=0.2,\n",
        "\t\tvertical_flip=True,\n",
        "\t\thorizontal_flip=True,)\n",
        "#         fill_mode='nearest')\n",
        "\t\t\n",
        "# img_names = img_names[:1]\n",
        "j = 0\n",
        "\n",
        "n_images = 8 #numero de imagens desejadas apos data augmentation\n",
        "\n",
        "aumentar = False\n",
        "if aumentar:\n",
        "\tfor jpg in tqdm(img_names):\n",
        "\t\tfull_name = os.path.join(path,jpg)\n",
        "\t\t# print(full_name)\n",
        "\t\timg = load_img(full_name)  # this is a PIL image\n",
        "\t\tx = img_to_array(img)  # this is a Numpy array with shape (3, 150, 150)\n",
        "\t\tx = x.reshape((1,) + x.shape)  # this is a Numpy array with shape (1, 3, 150, 150)\n",
        "\n",
        "\t\t# the .flow() command below generates batches of randomly transformed images\n",
        "\t\t# and saves the results to the `preview/` directory\n",
        "\t\ti = 0\n",
        "\t\t\n",
        "\t\tprefix = '{}'.format(j)\n",
        "\n",
        "\n",
        "\t\tfor batch in datagen.flow(x, batch_size=1,\n",
        "\t\t\t\t\t\t\t\t  save_to_dir=save_path, save_prefix=prefix, save_format='jpg'):\n",
        "\t\t\ti += 1\n",
        "\n",
        "\t\t\t# break\n",
        "\t\t\t\n",
        "\t\t\tif i > n_images - 1:\n",
        "\t\t\t\tbreak  # otherwise the generator would loop indefinitely\n",
        "\n",
        "\t\tj += 1\n",
        "\tprint(j)"
      ],
      "execution_count": 0,
      "outputs": []
    },
    {
      "cell_type": "code",
      "metadata": {
        "id": "KmC7mZjd4xPl",
        "colab_type": "code",
        "colab": {}
      },
      "source": [
        ""
      ],
      "execution_count": 0,
      "outputs": []
    }
  ]
}